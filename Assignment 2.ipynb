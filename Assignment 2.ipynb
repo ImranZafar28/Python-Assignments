{
 "cells": [
  {
   "cell_type": "code",
   "execution_count": 1,
   "metadata": {},
   "outputs": [
    {
     "name": "stdout",
     "output_type": "stream",
     "text": [
      "Enter Marks of Mathematics:90\n",
      "Enter Marks of Physics:80\n",
      "Enter Marks of Chemistry:70\n",
      "Enter Marks of English:60\n",
      "Enter Marks of Urdu:65\n",
      "Total Marks: 365\n",
      "Your Grade Is B\n"
     ]
    }
   ],
   "source": [
    "Maths = int(input(\"Enter Marks of Mathematics:\"))\n",
    "Phys = int(input(\"Enter Marks of Physics:\"))\n",
    "Chem = int(input(\"Enter Marks of Chemistry:\"))\n",
    "Eng = int(input(\"Enter Marks of English:\"))\n",
    "Urdu = int(input(\"Enter Marks of Urdu:\"))\n",
    "Percen = (Maths+Phys+Chem+Eng+Urdu)/5\n",
    "print(\"Total Marks:\",(Maths+Phys+Chem+Eng+Urdu))\n",
    "if(Percen>=85):\n",
    "     print(\"Your Grade Is A+\")\n",
    "elif(Percen>=75):\n",
    "     print(\"Your Grade Is A\")\n",
    "elif(Percen>=65):\n",
    "     print(\"Your Grade Is B\")\n",
    "elif(Percen>=55):\n",
    "     print(\"Your Grade Is C\")\n",
    "elif(Percen<55):\n",
    "     print(\"Fail\")"
   ]
  },
  {
   "cell_type": "code",
   "execution_count": 2,
   "metadata": {},
   "outputs": [
    {
     "name": "stdout",
     "output_type": "stream",
     "text": [
      "Enter number:\n",
      "3\n",
      "Number is Odd\n"
     ]
    }
   ],
   "source": [
    "print(\"Enter number:\")\n",
    "num = int(input())\n",
    "if(num%2==0):\n",
    "    print(\"Number is Even\")\n",
    "else:\n",
    "    print(\"Number is Odd\")"
   ]
  },
  {
   "cell_type": "code",
   "execution_count": 3,
   "metadata": {},
   "outputs": [
    {
     "name": "stdout",
     "output_type": "stream",
     "text": [
      "Total Numbers are 4\n"
     ]
    }
   ],
   "source": [
    "Numbers = [4,50,13,75]\n",
    "print(\"Total Numbers are\",len(Numbers))"
   ]
  },
  {
   "cell_type": "code",
   "execution_count": 4,
   "metadata": {},
   "outputs": [
    {
     "name": "stdout",
     "output_type": "stream",
     "text": [
      "How many numbers: 4\n",
      "Enter number: 20\n",
      "Enter number: 2\n",
      "Enter number: 5\n",
      "Enter number: 13\n",
      "Sum of numbers : 40\n"
     ]
    }
   ],
   "source": [
    "num_list = []\n",
    "num = int(input(\"How many numbers: \"))\n",
    "for n in range(num):\n",
    "    numbers = int(input(\"Enter number: \"))\n",
    "    num_list.append(numbers)\n",
    "print(\"Sum of numbers :\", sum(num_list))"
   ]
  },
  {
   "cell_type": "code",
   "execution_count": 5,
   "metadata": {},
   "outputs": [
    {
     "name": "stdout",
     "output_type": "stream",
     "text": [
      "How many numbers: 5\n",
      "Enter number 1\n",
      "Enter number 4\n",
      "Enter number 14\n",
      "Enter number 2\n",
      "Enter number 11\n",
      "Largest Number : 14\n"
     ]
    }
   ],
   "source": [
    "list = []\n",
    "num = int(input('How many numbers: '))\n",
    "for n in range(num):\n",
    "    numbers = int(input('Enter number '))\n",
    "    list.append(numbers)\n",
    "print(\"Largest Number :\",max(list))"
   ]
  },
  {
   "cell_type": "code",
   "execution_count": 7,
   "metadata": {},
   "outputs": [
    {
     "name": "stdout",
     "output_type": "stream",
     "text": [
      "2\n",
      "1\n",
      "3\n"
     ]
    }
   ],
   "source": [
    "a = [2,5,7,43,12,34,1,3,10]\n",
    "for i in a:\n",
    "    if i < 5:\n",
    "        print(i)"
   ]
  },
  {
   "cell_type": "code",
   "execution_count": null,
   "metadata": {},
   "outputs": [],
   "source": []
  }
 ],
 "metadata": {
  "kernelspec": {
   "display_name": "Python 3",
   "language": "python",
   "name": "python3"
  },
  "language_info": {
   "codemirror_mode": {
    "name": "ipython",
    "version": 3
   },
   "file_extension": ".py",
   "mimetype": "text/x-python",
   "name": "python",
   "nbconvert_exporter": "python",
   "pygments_lexer": "ipython3",
   "version": "3.7.4"
  }
 },
 "nbformat": 4,
 "nbformat_minor": 2
}

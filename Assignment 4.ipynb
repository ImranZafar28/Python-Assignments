{
 "cells": [
  {
   "cell_type": "code",
   "execution_count": 1,
   "metadata": {},
   "outputs": [
    {
     "name": "stdout",
     "output_type": "stream",
     "text": [
      "{'First Name': 'Imran', 'Last Name': 'Zafar', 'Age': 20, 'City': 'Karachi', 'Qualification': 'BS in Software Engineering'}\n",
      "{'First Name': 'Imran', 'Last Name': 'Zafar', 'Age': 20, 'City': 'Karachi'}\n"
     ]
    }
   ],
   "source": [
    "person = {\n",
    "    'First Name':'Imran',\n",
    "    'Last Name': 'Zafar',\n",
    "    'Age': 20,\n",
    "    'City': 'Karachi',\n",
    "    }\n",
    "person['Qualification']='BS in Software Engineering'  \n",
    "print (person)\n",
    "del person['Qualification']\n",
    "print (person)"
   ]
  },
  {
   "cell_type": "code",
   "execution_count": 2,
   "metadata": {},
   "outputs": [
    {
     "name": "stdout",
     "output_type": "stream",
     "text": [
      "\n",
      "Karachi is in Pakistan.\n",
      "  It has a population of about 14910352.\n",
      "  It is ranked Fifth in the world.\n",
      "\n",
      "Istanbul is in Turkey.\n",
      "  It has a population of about 82003882.\n",
      "  It is ranked 28Th  in the world.\n",
      "\n",
      "Kuala Lumpur is in Maylaisa.\n",
      "  It has a population of about 17310.\n",
      "  It is ranked 29Th in the world.\n"
     ]
    }
   ],
   "source": [
    "cities = {\n",
    "    'Karachi': {\n",
    "        'country': 'Pakistan',\n",
    "        'population':14910352,\n",
    "        'ranked': 'fifth',\n",
    "        },\n",
    "    'Istanbul': {\n",
    "        'country': 'Turkey',\n",
    "        'population': 82003882 ,\n",
    "        'ranked': '28th ',\n",
    "        },\n",
    "    'Kuala Lumpur': {\n",
    "        'country': 'Maylaisa',\n",
    "        'population': 17310 ,\n",
    "        'ranked': '29th',\n",
    "        }\n",
    "    }\n",
    "\n",
    "for city, city_info in cities.items():\n",
    "    country = city_info['country'].title()\n",
    "    population = city_info['population']\n",
    "    ranked = city_info['ranked'].title()\n",
    "\n",
    "    print(\"\\n\" + city.title() + \" is in \" + country + \".\")\n",
    "    print(\"  It has a population of about \" + str(population) + \".\")\n",
    "    print(\"  It is ranked \" + ranked + \" in the world.\")"
   ]
  },
  {
   "cell_type": "code",
   "execution_count": 3,
   "metadata": {},
   "outputs": [
    {
     "name": "stdout",
     "output_type": "stream",
     "text": [
      "Enter your age to buy a ticket :7\n",
      "  Your ticket cost is $10.\n"
     ]
    }
   ],
   "source": [
    "age = input(\"Enter your age to buy a ticket :\")\n",
    "i=0\n",
    "while i<=1:\n",
    "    age = int(age)\n",
    "    if age < 3:\n",
    "        print(\"  Your ticket cost is $0\")\n",
    "        break\n",
    "    elif age < 13 and age >= 3:\n",
    "        print(\"  Your ticket cost is $10.\")\n",
    "        break\n",
    "    else:\n",
    "        print(\"  Your ticket cost is $15.\")\n",
    "        break"
   ]
  },
  {
   "cell_type": "code",
   "execution_count": 4,
   "metadata": {},
   "outputs": [
    {
     "name": "stdout",
     "output_type": "stream",
     "text": [
      "Harry Potter and the Goblet of Fire is one of my favorite books.\n"
     ]
    }
   ],
   "source": [
    "def favorite_book(title):\n",
    "    print(title + ' is one of my favorite books.')\n",
    "\n",
    "#Calling Function\n",
    "favorite_book('Harry Potter and the Goblet of Fire')"
   ]
  },
  {
   "cell_type": "code",
   "execution_count": 9,
   "metadata": {},
   "outputs": [
    {
     "name": "stdout",
     "output_type": "stream",
     "text": [
      "              \"HINT\"              \n",
      "Try a number between 1 and 30\n",
      "Enter your guess: 6\n",
      "Your guess is wrong !!!\n",
      "               Better Luck Next Time              \n",
      "Enter your guess: 30\n",
      "Your guess is right !!!\n"
     ]
    }
   ],
   "source": [
    "import random\n",
    "random=random.randint(1,30)\n",
    "print(\"              \\\"HINT\\\"              \")\n",
    "if random>=1 and random <=30:\n",
    "    print(\"Try a number between 1 and 30\")\n",
    "for i in range(0,3):\n",
    "    user = int(input(\"Enter your guess: \"))\n",
    "    if user < 1 or user > 30:\n",
    "        print(\"Choose a number between 1 and 30\")\n",
    "    else:\n",
    "        if user == random:\n",
    "            print(\"Your guess is right !!!\")\n",
    "            break\n",
    "        else:\n",
    "            print(\"Your guess is wrong !!!\")\n",
    "            print(\"               Better Luck Next Time              \")"
   ]
  },
  {
   "cell_type": "code",
   "execution_count": null,
   "metadata": {},
   "outputs": [],
   "source": []
  }
 ],
 "metadata": {
  "kernelspec": {
   "display_name": "Python 3",
   "language": "python",
   "name": "python3"
  },
  "language_info": {
   "codemirror_mode": {
    "name": "ipython",
    "version": 3
   },
   "file_extension": ".py",
   "mimetype": "text/x-python",
   "name": "python",
   "nbconvert_exporter": "python",
   "pygments_lexer": "ipython3",
   "version": "3.7.4"
  }
 },
 "nbformat": 4,
 "nbformat_minor": 2
}
